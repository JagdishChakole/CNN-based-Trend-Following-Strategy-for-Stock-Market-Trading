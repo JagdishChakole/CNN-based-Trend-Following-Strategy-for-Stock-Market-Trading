{
 "cells": [
  {
   "cell_type": "code",
   "execution_count": 1,
   "metadata": {},
   "outputs": [],
   "source": [
    "import datetime\n",
    "import numpy as np\n",
    "from matplotlib import cm, pyplot as plt\n",
    "import pandas as pd\n",
    "import seaborn as sns\n",
    "from sklearn import tree\n",
    "from pandas_datareader import data\n",
    "import ta"
   ]
  },
  {
   "cell_type": "code",
   "execution_count": 2,
   "metadata": {},
   "outputs": [
    {
     "name": "stderr",
     "output_type": "stream",
     "text": [
      "Using TensorFlow backend.\n"
     ]
    }
   ],
   "source": [
    "from __future__ import print_function\n",
    "import keras\n",
    "from keras.layers import Dense, Flatten, Dropout\n",
    "from keras.layers import Conv2D, MaxPooling2D\n",
    "from keras.models import Sequential\n",
    "import matplotlib.pylab as plt"
   ]
  },
  {
   "cell_type": "code",
   "execution_count": 4,
   "metadata": {},
   "outputs": [
    {
     "name": "stdout",
     "output_type": "stream",
     "text": [
      "7559\n"
     ]
    }
   ],
   "source": [
    "df=pd.read_csv(\"Stock-Data/DJIA.csv\")\n",
    "print(len(df))"
   ]
  },
  {
   "cell_type": "code",
   "execution_count": 4,
   "metadata": {},
   "outputs": [
    {
     "data": {
      "text/html": [
       "<div>\n",
       "<style scoped>\n",
       "    .dataframe tbody tr th:only-of-type {\n",
       "        vertical-align: middle;\n",
       "    }\n",
       "\n",
       "    .dataframe tbody tr th {\n",
       "        vertical-align: top;\n",
       "    }\n",
       "\n",
       "    .dataframe thead th {\n",
       "        text-align: right;\n",
       "    }\n",
       "</style>\n",
       "<table border=\"1\" class=\"dataframe\">\n",
       "  <thead>\n",
       "    <tr style=\"text-align: right;\">\n",
       "      <th></th>\n",
       "      <th>Date</th>\n",
       "      <th>High</th>\n",
       "      <th>Low</th>\n",
       "      <th>Open</th>\n",
       "      <th>Close</th>\n",
       "      <th>Volume</th>\n",
       "      <th>Adj Close</th>\n",
       "    </tr>\n",
       "  </thead>\n",
       "  <tbody>\n",
       "    <tr>\n",
       "      <th>7554</th>\n",
       "      <td>2019-12-24</td>\n",
       "      <td>28576.800781</td>\n",
       "      <td>28503.210938</td>\n",
       "      <td>28572.570312</td>\n",
       "      <td>28515.449219</td>\n",
       "      <td>86150000</td>\n",
       "      <td>28515.449219</td>\n",
       "    </tr>\n",
       "    <tr>\n",
       "      <th>7555</th>\n",
       "      <td>2019-12-26</td>\n",
       "      <td>28624.099609</td>\n",
       "      <td>28535.150391</td>\n",
       "      <td>28539.460938</td>\n",
       "      <td>28621.390625</td>\n",
       "      <td>155970000</td>\n",
       "      <td>28621.390625</td>\n",
       "    </tr>\n",
       "    <tr>\n",
       "      <th>7556</th>\n",
       "      <td>2019-12-27</td>\n",
       "      <td>28701.660156</td>\n",
       "      <td>28608.980469</td>\n",
       "      <td>28675.339844</td>\n",
       "      <td>28645.259766</td>\n",
       "      <td>182280000</td>\n",
       "      <td>28645.259766</td>\n",
       "    </tr>\n",
       "    <tr>\n",
       "      <th>7557</th>\n",
       "      <td>2019-12-30</td>\n",
       "      <td>28664.689453</td>\n",
       "      <td>28428.980469</td>\n",
       "      <td>28654.759766</td>\n",
       "      <td>28462.140625</td>\n",
       "      <td>181600000</td>\n",
       "      <td>28462.140625</td>\n",
       "    </tr>\n",
       "    <tr>\n",
       "      <th>7558</th>\n",
       "      <td>2019-12-31</td>\n",
       "      <td>28547.349609</td>\n",
       "      <td>28376.490234</td>\n",
       "      <td>28414.640625</td>\n",
       "      <td>28538.439453</td>\n",
       "      <td>193340000</td>\n",
       "      <td>28538.439453</td>\n",
       "    </tr>\n",
       "  </tbody>\n",
       "</table>\n",
       "</div>"
      ],
      "text/plain": [
       "            Date          High           Low          Open         Close  \\\n",
       "7554  2019-12-24  28576.800781  28503.210938  28572.570312  28515.449219   \n",
       "7555  2019-12-26  28624.099609  28535.150391  28539.460938  28621.390625   \n",
       "7556  2019-12-27  28701.660156  28608.980469  28675.339844  28645.259766   \n",
       "7557  2019-12-30  28664.689453  28428.980469  28654.759766  28462.140625   \n",
       "7558  2019-12-31  28547.349609  28376.490234  28414.640625  28538.439453   \n",
       "\n",
       "         Volume     Adj Close  \n",
       "7554   86150000  28515.449219  \n",
       "7555  155970000  28621.390625  \n",
       "7556  182280000  28645.259766  \n",
       "7557  181600000  28462.140625  \n",
       "7558  193340000  28538.439453  "
      ]
     },
     "execution_count": 4,
     "metadata": {},
     "output_type": "execute_result"
    }
   ],
   "source": [
    "df.tail()"
   ]
  },
  {
   "cell_type": "code",
   "execution_count": 5,
   "metadata": {},
   "outputs": [],
   "source": [
    "df['Date']= pd.to_datetime(df[\"Date\"])\n",
    "df['weekday'] = df['Date'].dt.dayofweek"
   ]
  },
  {
   "cell_type": "code",
   "execution_count": 6,
   "metadata": {},
   "outputs": [],
   "source": [
    "df['rsi']=ta.momentum.rsi(df[\"Close\"], n=14, fillna=False)\n",
    "df['r']=ta.momentum.wr(df[\"High\"], df[\"Low\"], df[\"Close\"], lbp=14, fillna=False)\n",
    "df['cci']=ta.trend.cci(df[\"High\"], df[\"Low\"], df[\"Close\"], n=20, c=0.015, fillna=False) "
   ]
  },
  {
   "cell_type": "code",
   "execution_count": 7,
   "metadata": {},
   "outputs": [],
   "source": [
    "df['rsitf']=np.where(df['rsi']>=70,2,(np.where(df['rsi']<=30,1,0)))"
   ]
  },
  {
   "cell_type": "code",
   "execution_count": 8,
   "metadata": {},
   "outputs": [],
   "source": [
    "df['rtf']=np.where(df['r']>=-20,2,(np.where(df['r']<=-80,1,0)))"
   ]
  },
  {
   "cell_type": "code",
   "execution_count": 9,
   "metadata": {},
   "outputs": [],
   "source": [
    "df['ccitf']=np.where(df['cci']<=-100,2,(np.where(df['cci']>=100,1,0)))"
   ]
  },
  {
   "cell_type": "code",
   "execution_count": 10,
   "metadata": {},
   "outputs": [],
   "source": [
    "df['mom1']=(df['Close']-df['Close'].shift(1))/df['Close'].shift(1)*100\n",
    "df['mom2']=(df['Close']-df['Close'].shift(2))/df['Close'].shift(2)*100\n",
    "df['mom3']=(df['Close']-df['Close'].shift(3))/df['Close'].shift(3)*100"
   ]
  },
  {
   "cell_type": "code",
   "execution_count": 11,
   "metadata": {},
   "outputs": [],
   "source": [
    "df[\"vc1\"]=(df[\"Volume\"]-df[\"Volume\"].shift(1))/df[\"Volume\"].shift(1)*100\n",
    "df[\"vc2\"]=(df[\"Volume\"]-df[\"Volume\"].shift(2))/df[\"Volume\"].shift(2)*100\n",
    "df[\"vc3\"]=(df[\"Volume\"]-df[\"Volume\"].shift(3))/df[\"Volume\"].shift(3)*100"
   ]
  },
  {
   "cell_type": "code",
   "execution_count": 12,
   "metadata": {},
   "outputs": [],
   "source": [
    "df[\"ho\"]=(((df.High-df.Open)/df.Open)*100)\n",
    "df[\"lo\"]=(((df.Open-df.Low)/df.Open)*100)\n",
    "df[\"co\"]=(((df.Open-df.Close)/df.Open)*100)\n",
    "df[\"hl\"]=(((df.High-df.Low)/df.Low)*100)"
   ]
  },
  {
   "cell_type": "code",
   "execution_count": 13,
   "metadata": {},
   "outputs": [],
   "source": [
    "df['non_Trading']=((df['Close']-df['Open'].shift(-1))/df['Close'])*100"
   ]
  },
  {
   "cell_type": "code",
   "execution_count": 14,
   "metadata": {},
   "outputs": [],
   "source": [
    "df['sma5']=df.Close.rolling(window=5).mean()\n",
    "df['sma10']=df.Close.rolling(window=10).mean()\n",
    "df['sma15']=df.Close.rolling(window=15).mean()\n",
    "df['sma20']=df.Close.rolling(window=20).mean()\n",
    "df['sma25']=df.Close.rolling(window=25).mean()"
   ]
  },
  {
   "cell_type": "code",
   "execution_count": 15,
   "metadata": {},
   "outputs": [],
   "source": [
    "df['ema5']=df.Close.ewm(span=5, adjust=False).mean()\n",
    "df['ema10']=df.Close.ewm(span=10, adjust=False).mean()\n",
    "df['ema15']=df.Close.ewm(span=15, adjust=False).mean()\n",
    "df['ema20']=df.Close.ewm(span=20, adjust=False).mean()\n",
    "df['ema25']=df.Close.ewm(span=25, adjust=False).mean()"
   ]
  },
  {
   "cell_type": "code",
   "execution_count": 16,
   "metadata": {},
   "outputs": [],
   "source": [
    "df['label']=np.where(df['Close'].shift(-1)>df['Close'],1,0)"
   ]
  },
  {
   "cell_type": "code",
   "execution_count": 17,
   "metadata": {},
   "outputs": [
    {
     "data": {
      "text/html": [
       "<div>\n",
       "<style scoped>\n",
       "    .dataframe tbody tr th:only-of-type {\n",
       "        vertical-align: middle;\n",
       "    }\n",
       "\n",
       "    .dataframe tbody tr th {\n",
       "        vertical-align: top;\n",
       "    }\n",
       "\n",
       "    .dataframe thead th {\n",
       "        text-align: right;\n",
       "    }\n",
       "</style>\n",
       "<table border=\"1\" class=\"dataframe\">\n",
       "  <thead>\n",
       "    <tr style=\"text-align: right;\">\n",
       "      <th></th>\n",
       "      <th>Date</th>\n",
       "      <th>High</th>\n",
       "      <th>Low</th>\n",
       "      <th>Open</th>\n",
       "      <th>Close</th>\n",
       "      <th>Volume</th>\n",
       "      <th>Adj Close</th>\n",
       "      <th>weekday</th>\n",
       "      <th>rsi</th>\n",
       "      <th>r</th>\n",
       "      <th>...</th>\n",
       "      <th>sma10</th>\n",
       "      <th>sma15</th>\n",
       "      <th>sma20</th>\n",
       "      <th>sma25</th>\n",
       "      <th>ema5</th>\n",
       "      <th>ema10</th>\n",
       "      <th>ema15</th>\n",
       "      <th>ema20</th>\n",
       "      <th>ema25</th>\n",
       "      <th>label</th>\n",
       "    </tr>\n",
       "  </thead>\n",
       "  <tbody>\n",
       "    <tr>\n",
       "      <th>0</th>\n",
       "      <td>1990-01-02</td>\n",
       "      <td>2811.649902</td>\n",
       "      <td>2732.510010</td>\n",
       "      <td>2748.719971</td>\n",
       "      <td>2810.149902</td>\n",
       "      <td>20680000</td>\n",
       "      <td>2810.149902</td>\n",
       "      <td>1</td>\n",
       "      <td>100.000000</td>\n",
       "      <td>-1.895378</td>\n",
       "      <td>...</td>\n",
       "      <td>NaN</td>\n",
       "      <td>NaN</td>\n",
       "      <td>NaN</td>\n",
       "      <td>NaN</td>\n",
       "      <td>2810.149902</td>\n",
       "      <td>2810.149902</td>\n",
       "      <td>2810.149902</td>\n",
       "      <td>2810.149902</td>\n",
       "      <td>2810.149902</td>\n",
       "      <td>0</td>\n",
       "    </tr>\n",
       "    <tr>\n",
       "      <th>1</th>\n",
       "      <td>1990-01-03</td>\n",
       "      <td>2834.040039</td>\n",
       "      <td>2786.260010</td>\n",
       "      <td>2814.199951</td>\n",
       "      <td>2809.729980</td>\n",
       "      <td>23620000</td>\n",
       "      <td>2809.729980</td>\n",
       "      <td>2</td>\n",
       "      <td>0.000000</td>\n",
       "      <td>-23.943713</td>\n",
       "      <td>...</td>\n",
       "      <td>NaN</td>\n",
       "      <td>NaN</td>\n",
       "      <td>NaN</td>\n",
       "      <td>NaN</td>\n",
       "      <td>2810.009928</td>\n",
       "      <td>2810.073553</td>\n",
       "      <td>2810.097412</td>\n",
       "      <td>2810.109910</td>\n",
       "      <td>2810.117601</td>\n",
       "      <td>0</td>\n",
       "    </tr>\n",
       "    <tr>\n",
       "      <th>2</th>\n",
       "      <td>1990-01-04</td>\n",
       "      <td>2821.459961</td>\n",
       "      <td>2766.419922</td>\n",
       "      <td>2804.389893</td>\n",
       "      <td>2796.080078</td>\n",
       "      <td>24370000</td>\n",
       "      <td>2796.080078</td>\n",
       "      <td>3</td>\n",
       "      <td>0.000000</td>\n",
       "      <td>-37.387915</td>\n",
       "      <td>...</td>\n",
       "      <td>NaN</td>\n",
       "      <td>NaN</td>\n",
       "      <td>NaN</td>\n",
       "      <td>NaN</td>\n",
       "      <td>2805.366645</td>\n",
       "      <td>2807.529285</td>\n",
       "      <td>2808.345245</td>\n",
       "      <td>2808.773735</td>\n",
       "      <td>2809.037791</td>\n",
       "      <td>0</td>\n",
       "    </tr>\n",
       "    <tr>\n",
       "      <th>3</th>\n",
       "      <td>1990-01-05</td>\n",
       "      <td>2810.149902</td>\n",
       "      <td>2758.110107</td>\n",
       "      <td>2786.899902</td>\n",
       "      <td>2773.250000</td>\n",
       "      <td>20290000</td>\n",
       "      <td>2773.250000</td>\n",
       "      <td>4</td>\n",
       "      <td>0.000000</td>\n",
       "      <td>-59.873950</td>\n",
       "      <td>...</td>\n",
       "      <td>NaN</td>\n",
       "      <td>NaN</td>\n",
       "      <td>NaN</td>\n",
       "      <td>NaN</td>\n",
       "      <td>2794.661097</td>\n",
       "      <td>2801.296688</td>\n",
       "      <td>2803.958340</td>\n",
       "      <td>2805.390522</td>\n",
       "      <td>2806.284884</td>\n",
       "      <td>1</td>\n",
       "    </tr>\n",
       "    <tr>\n",
       "      <th>4</th>\n",
       "      <td>1990-01-08</td>\n",
       "      <td>2803.969971</td>\n",
       "      <td>2753.409912</td>\n",
       "      <td>2761.729980</td>\n",
       "      <td>2794.370117</td>\n",
       "      <td>16610000</td>\n",
       "      <td>2794.370117</td>\n",
       "      <td>0</td>\n",
       "      <td>38.805735</td>\n",
       "      <td>-39.072107</td>\n",
       "      <td>...</td>\n",
       "      <td>NaN</td>\n",
       "      <td>NaN</td>\n",
       "      <td>NaN</td>\n",
       "      <td>NaN</td>\n",
       "      <td>2794.564103</td>\n",
       "      <td>2800.037311</td>\n",
       "      <td>2802.759812</td>\n",
       "      <td>2804.340960</td>\n",
       "      <td>2805.368364</td>\n",
       "      <td>0</td>\n",
       "    </tr>\n",
       "  </tbody>\n",
       "</table>\n",
       "<p>5 rows × 36 columns</p>\n",
       "</div>"
      ],
      "text/plain": [
       "        Date         High          Low         Open        Close    Volume  \\\n",
       "0 1990-01-02  2811.649902  2732.510010  2748.719971  2810.149902  20680000   \n",
       "1 1990-01-03  2834.040039  2786.260010  2814.199951  2809.729980  23620000   \n",
       "2 1990-01-04  2821.459961  2766.419922  2804.389893  2796.080078  24370000   \n",
       "3 1990-01-05  2810.149902  2758.110107  2786.899902  2773.250000  20290000   \n",
       "4 1990-01-08  2803.969971  2753.409912  2761.729980  2794.370117  16610000   \n",
       "\n",
       "     Adj Close  weekday         rsi          r  ...  sma10  sma15  sma20  \\\n",
       "0  2810.149902        1  100.000000  -1.895378  ...    NaN    NaN    NaN   \n",
       "1  2809.729980        2    0.000000 -23.943713  ...    NaN    NaN    NaN   \n",
       "2  2796.080078        3    0.000000 -37.387915  ...    NaN    NaN    NaN   \n",
       "3  2773.250000        4    0.000000 -59.873950  ...    NaN    NaN    NaN   \n",
       "4  2794.370117        0   38.805735 -39.072107  ...    NaN    NaN    NaN   \n",
       "\n",
       "   sma25         ema5        ema10        ema15        ema20        ema25  \\\n",
       "0    NaN  2810.149902  2810.149902  2810.149902  2810.149902  2810.149902   \n",
       "1    NaN  2810.009928  2810.073553  2810.097412  2810.109910  2810.117601   \n",
       "2    NaN  2805.366645  2807.529285  2808.345245  2808.773735  2809.037791   \n",
       "3    NaN  2794.661097  2801.296688  2803.958340  2805.390522  2806.284884   \n",
       "4    NaN  2794.564103  2800.037311  2802.759812  2804.340960  2805.368364   \n",
       "\n",
       "   label  \n",
       "0      0  \n",
       "1      0  \n",
       "2      0  \n",
       "3      1  \n",
       "4      0  \n",
       "\n",
       "[5 rows x 36 columns]"
      ]
     },
     "execution_count": 17,
     "metadata": {},
     "output_type": "execute_result"
    }
   ],
   "source": [
    "df.head()"
   ]
  },
  {
   "cell_type": "code",
   "execution_count": 18,
   "metadata": {},
   "outputs": [
    {
     "data": {
      "text/plain": [
       "<matplotlib.axes._subplots.AxesSubplot at 0x7fd794db6b70>"
      ]
     },
     "execution_count": 18,
     "metadata": {},
     "output_type": "execute_result"
    },
    {
     "data": {
      "image/png": "[encoded data removed]",
      "text/plain": [
       "<Figure size 432x288 with 1 Axes>"
      ]
     },
     "metadata": {
      "needs_background": "light"
     },
     "output_type": "display_data"
    }
   ],
   "source": [
    "import seaborn as sns\n",
    "df['t']=((df['Close'].shift(-1)- df['Close'])/df['Close']*100)\n",
    "sns.boxplot(x=df['t'])"
   ]
  },
  {
   "cell_type": "code",
   "execution_count": 19,
   "metadata": {},
   "outputs": [
    {
     "name": "stderr",
     "output_type": "stream",
     "text": [
      "/home/jagdish/anaconda3/lib/python3.7/site-packages/pandas/plotting/_converter.py:129: FutureWarning: Using an implicitly registered datetime converter for a matplotlib plotting method. The converter was registered by pandas on import. Future versions of pandas will require you to explicitly register matplotlib converters.\n",
      "\n",
      "To register the converters:\n",
      "\t>>> from pandas.plotting import register_matplotlib_converters\n",
      "\t>>> register_matplotlib_converters()\n",
      "  warnings.warn(msg, FutureWarning)\n"
     ]
    },
    {
     "data": {
      "image/png": "[encoded data removed]",
      "text/plain": [
       "<Figure size 1152x576 with 1 Axes>"
      ]
     },
     "metadata": {
      "needs_background": "light"
     },
     "output_type": "display_data"
    }
   ],
   "source": [
    "fig, ax = plt.subplots(figsize=(16,8))\n",
    "ax.scatter(df['Date'], df['t'])\n",
    "ax.set_xlabel('days')\n",
    "ax.set_ylabel('% daily change')\n",
    "plt.show()"
   ]
  },
  {
   "cell_type": "code",
   "execution_count": 20,
   "metadata": {},
   "outputs": [],
   "source": [
    "df=df.dropna() "
   ]
  },
  {
   "cell_type": "code",
   "execution_count": 21,
   "metadata": {},
   "outputs": [
    {
     "name": "stdout",
     "output_type": "stream",
     "text": [
      "[0.62395725 1.19864278 0.11893276 ... 0.04397885 0.64410361 0.21981742]\n"
     ]
    }
   ],
   "source": [
    "from scipy import stats\n",
    "import numpy as np\n",
    "z = np.abs(stats.zscore(df['t']))\n",
    "print(z)"
   ]
  },
  {
   "cell_type": "code",
   "execution_count": 22,
   "metadata": {},
   "outputs": [
    {
     "name": "stdout",
     "output_type": "stream",
     "text": [
      "(array([ 125,  239,  450, 1903, 1914, 1953, 1954, 2146, 2163, 2165, 2166,\n",
      "       2170, 2172, 2181, 2197, 2504, 2547, 2553, 2554, 2575, 2700, 2737,\n",
      "       2802, 2820, 2828, 2929, 2932, 2934, 3130, 3140, 3143, 3146, 3151,\n",
      "       3171, 3189, 3191, 3198, 3199, 3201, 3303, 3305, 3310, 4299, 4560,\n",
      "       4565, 4574, 4621, 4690, 4692, 4693, 4694, 4695, 4700, 4701, 4703,\n",
      "       4705, 4706, 4708, 4710, 4712, 4713, 4715, 4717, 4719, 4721, 4726,\n",
      "       4727, 4728, 4732, 4733, 4734, 4737, 4738, 4739, 4740, 4744, 4745,\n",
      "       4749, 4755, 4777, 4778, 4792, 4796, 4800, 4801, 4805, 4808, 4811,\n",
      "       4813, 4820, 4825, 4839, 5103, 5105, 5113, 5123, 5418, 5420, 5421,\n",
      "       5422, 5423, 5428, 5452, 5486, 5500, 6436, 6437, 6439, 6648, 7054,\n",
      "       7057, 7226, 7278, 7284]),)\n"
     ]
    }
   ],
   "source": [
    "threshold = 3\n",
    "print(np.where(z > 3))"
   ]
  },
  {
   "cell_type": "code",
   "execution_count": 23,
   "metadata": {},
   "outputs": [],
   "source": [
    "df['z']=z"
   ]
  },
  {
   "cell_type": "code",
   "execution_count": 24,
   "metadata": {},
   "outputs": [
    {
     "data": {
      "image/png": "[encoded data removed]",
      "text/plain": [
       "<Figure size 1152x576 with 1 Axes>"
      ]
     },
     "metadata": {
      "needs_background": "light"
     },
     "output_type": "display_data"
    }
   ],
   "source": [
    "fig, ax = plt.subplots(figsize=(16,8))\n",
    "ax.scatter(df['Date'], df['z'])\n",
    "ax.set_xlabel('z-values')\n",
    "ax.set_ylabel('days')\n",
    "plt.show()"
   ]
  },
  {
   "cell_type": "code",
   "execution_count": 25,
   "metadata": {},
   "outputs": [],
   "source": [
    "# Get names of indexes for which column Age has value 30\n",
    "indexNames = df[ df['z'] > 3 ].index \n",
    "# Delete these row indexes from dataFrame\n",
    "df.drop(indexNames , inplace=True)"
   ]
  },
  {
   "cell_type": "code",
   "execution_count": 26,
   "metadata": {},
   "outputs": [
    {
     "data": {
      "text/plain": [
       "7420"
      ]
     },
     "execution_count": 26,
     "metadata": {},
     "output_type": "execute_result"
    }
   ],
   "source": [
    "len(df)"
   ]
  },
  {
   "cell_type": "code",
   "execution_count": 27,
   "metadata": {},
   "outputs": [],
   "source": [
    "test=int(len(df)*0.05)"
   ]
  },
  {
   "cell_type": "code",
   "execution_count": 28,
   "metadata": {},
   "outputs": [
    {
     "data": {
      "text/plain": [
       "Index(['Date', 'High', 'Low', 'Open', 'Close', 'Volume', 'Adj Close',\n",
       "       'weekday', 'rsi', 'r', 'cci', 'rsitf', 'rtf', 'ccitf', 'mom1', 'mom2',\n",
       "       'mom3', 'vc1', 'vc2', 'vc3', 'ho', 'lo', 'co', 'hl', 'non_Trading',\n",
       "       'sma5', 'sma10', 'sma15', 'sma20', 'sma25', 'ema5', 'ema10', 'ema15',\n",
       "       'ema20', 'ema25', 'label', 't', 'z'],\n",
       "      dtype='object')"
      ]
     },
     "execution_count": 28,
     "metadata": {},
     "output_type": "execute_result"
    }
   ],
   "source": [
    "df.columns"
   ]
  },
  {
   "cell_type": "code",
   "execution_count": 29,
   "metadata": {},
   "outputs": [],
   "source": [
    "x=df[['Close','weekday', 'rsi', 'r', 'cci','rsitf', 'rtf', 'ccitf', 'mom1', 'mom2', 'mom3','vc1', 'vc2',\n",
    "       'vc3',  'ho', 'lo', 'co', 'hl', 'sma5', 'sma10', 'sma15', 'sma20','non_Trading',\n",
    "       'sma25', 'ema5', 'ema10', 'ema15', 'ema20', 'ema25',]]"
   ]
  },
  {
   "cell_type": "code",
   "execution_count": 30,
   "metadata": {},
   "outputs": [
    {
     "data": {
      "text/plain": [
       "(7420, 29)"
      ]
     },
     "execution_count": 30,
     "metadata": {},
     "output_type": "execute_result"
    }
   ],
   "source": [
    "x1=x.to_numpy()\n",
    "x1.shape"
   ]
  },
  {
   "cell_type": "code",
   "execution_count": 31,
   "metadata": {},
   "outputs": [
    {
     "data": {
      "text/plain": [
       "7420"
      ]
     },
     "execution_count": 31,
     "metadata": {},
     "output_type": "execute_result"
    }
   ],
   "source": [
    "len(x1)"
   ]
  },
  {
   "cell_type": "code",
   "execution_count": 32,
   "metadata": {},
   "outputs": [],
   "source": [
    "t=[]\n",
    "for i in range(10,len(x1)):\n",
    "    t.append(x1[i-10:i].reshape(10,29,1))"
   ]
  },
  {
   "cell_type": "code",
   "execution_count": 33,
   "metadata": {},
   "outputs": [],
   "source": [
    "inputF=np.asarray(t)"
   ]
  },
  {
   "cell_type": "code",
   "execution_count": 34,
   "metadata": {},
   "outputs": [
    {
     "data": {
      "text/plain": [
       "371"
      ]
     },
     "execution_count": 34,
     "metadata": {},
     "output_type": "execute_result"
    }
   ],
   "source": [
    "test"
   ]
  },
  {
   "cell_type": "code",
   "execution_count": 35,
   "metadata": {},
   "outputs": [
    {
     "data": {
      "text/plain": [
       "array([[[[2.62252002e+03],\n",
       "         [0.00000000e+00],\n",
       "         [4.19145606e+01],\n",
       "         ...,\n",
       "         [2.61937780e+03],\n",
       "         [2.63754360e+03],\n",
       "         [2.65401050e+03]],\n",
       "\n",
       "        [[2.60631006e+03],\n",
       "         [1.00000000e+00],\n",
       "         [3.91729675e+01],\n",
       "         ...,\n",
       "         [2.61774433e+03],\n",
       "         [2.63456898e+03],\n",
       "         [2.65034124e+03]],\n",
       "\n",
       "        [[2.64009009e+03],\n",
       "         [2.00000000e+00],\n",
       "         [4.69589424e+01],\n",
       "         ...,\n",
       "         [2.62053755e+03],\n",
       "         [2.63509480e+03],\n",
       "         [2.64955269e+03]],\n",
       "\n",
       "        ...,\n",
       "\n",
       "        [[2.62432007e+03],\n",
       "         [2.00000000e+00],\n",
       "         [4.42599074e+01],\n",
       "         ...,\n",
       "         [2.62532899e+03],\n",
       "         [2.63339371e+03],\n",
       "         [2.64343978e+03]],\n",
       "\n",
       "        [[2.64955005e+03],\n",
       "         [3.00000000e+00],\n",
       "         [5.04291979e+01],\n",
       "         ...,\n",
       "         [2.62835662e+03],\n",
       "         [2.63493241e+03],\n",
       "         [2.64390980e+03]],\n",
       "\n",
       "        [[2.63559009e+03],\n",
       "         [4.00000000e+00],\n",
       "         [4.73091272e+01],\n",
       "         ...,\n",
       "         [2.62926081e+03],\n",
       "         [2.63499504e+03],\n",
       "         [2.64326982e+03]]],\n",
       "\n",
       "\n",
       "       [[[2.60631006e+03],\n",
       "         [1.00000000e+00],\n",
       "         [3.91729675e+01],\n",
       "         ...,\n",
       "         [2.61774433e+03],\n",
       "         [2.63456898e+03],\n",
       "         [2.65034124e+03]],\n",
       "\n",
       "        [[2.64009009e+03],\n",
       "         [2.00000000e+00],\n",
       "         [4.69589424e+01],\n",
       "         ...,\n",
       "         [2.62053755e+03],\n",
       "         [2.63509480e+03],\n",
       "         [2.64955269e+03]],\n",
       "\n",
       "        [[2.64437012e+03],\n",
       "         [3.00000000e+00],\n",
       "         [4.78694428e+01],\n",
       "         ...,\n",
       "         [2.62351662e+03],\n",
       "         [2.63597816e+03],\n",
       "         [2.64915403e+03]],\n",
       "\n",
       "        ...,\n",
       "\n",
       "        [[2.64955005e+03],\n",
       "         [3.00000000e+00],\n",
       "         [5.04291979e+01],\n",
       "         ...,\n",
       "         [2.62835662e+03],\n",
       "         [2.63493241e+03],\n",
       "         [2.64390980e+03]],\n",
       "\n",
       "        [[2.63559009e+03],\n",
       "         [4.00000000e+00],\n",
       "         [4.73091272e+01],\n",
       "         ...,\n",
       "         [2.62926081e+03],\n",
       "         [2.63499504e+03],\n",
       "         [2.64326982e+03]],\n",
       "\n",
       "        [[2.59685010e+03],\n",
       "         [1.00000000e+00],\n",
       "         [3.99266051e+01],\n",
       "         ...,\n",
       "         [2.62520947e+03],\n",
       "         [2.63136219e+03],\n",
       "         [2.63969907e+03]]],\n",
       "\n",
       "\n",
       "       [[[2.64009009e+03],\n",
       "         [2.00000000e+00],\n",
       "         [4.69589424e+01],\n",
       "         ...,\n",
       "         [2.62053755e+03],\n",
       "         [2.63509480e+03],\n",
       "         [2.64955269e+03]],\n",
       "\n",
       "        [[2.64437012e+03],\n",
       "         [3.00000000e+00],\n",
       "         [4.78694428e+01],\n",
       "         ...,\n",
       "         [2.62351662e+03],\n",
       "         [2.63597816e+03],\n",
       "         [2.64915403e+03]],\n",
       "\n",
       "        [[2.64819995e+03],\n",
       "         [4.00000000e+00],\n",
       "         [4.87177495e+01],\n",
       "         ...,\n",
       "         [2.62660204e+03],\n",
       "         [2.63714214e+03],\n",
       "         [2.64908064e+03]],\n",
       "\n",
       "        ...,\n",
       "\n",
       "        [[2.63559009e+03],\n",
       "         [4.00000000e+00],\n",
       "         [4.73091272e+01],\n",
       "         ...,\n",
       "         [2.62926081e+03],\n",
       "         [2.63499504e+03],\n",
       "         [2.64326982e+03]],\n",
       "\n",
       "        [[2.59685010e+03],\n",
       "         [1.00000000e+00],\n",
       "         [3.99266051e+01],\n",
       "         ...,\n",
       "         [2.62520947e+03],\n",
       "         [2.63136219e+03],\n",
       "         [2.63969907e+03]],\n",
       "\n",
       "        [[2.58356006e+03],\n",
       "         [2.00000000e+00],\n",
       "         [3.77502437e+01],\n",
       "         ...,\n",
       "         [2.62000329e+03],\n",
       "         [2.62680961e+03],\n",
       "         [2.63538069e+03]]],\n",
       "\n",
       "\n",
       "       ...,\n",
       "\n",
       "\n",
       "       [[[2.49874707e+04],\n",
       "         [0.00000000e+00],\n",
       "         [5.28220825e+01],\n",
       "         ...,\n",
       "         [2.50238608e+04],\n",
       "         [2.49648894e+04],\n",
       "         [2.49131371e+04]],\n",
       "\n",
       "        [[2.47002109e+04],\n",
       "         [1.00000000e+00],\n",
       "         [4.49487395e+01],\n",
       "         ...,\n",
       "         [2.49834045e+04],\n",
       "         [2.49396819e+04],\n",
       "         [2.48967582e+04]],\n",
       "\n",
       "        [[2.46578008e+04],\n",
       "         [2.00000000e+00],\n",
       "         [4.39081755e+01],\n",
       "         ...,\n",
       "         [2.49427041e+04],\n",
       "         [2.49128361e+04],\n",
       "         [2.48783768e+04]],\n",
       "\n",
       "        ...,\n",
       "\n",
       "        [[2.41175898e+04],\n",
       "         [2.00000000e+00],\n",
       "         [3.42441159e+01],\n",
       "         ...,\n",
       "         [2.46358529e+04],\n",
       "         [2.46791737e+04],\n",
       "         [2.46953154e+04]],\n",
       "\n",
       "        [[2.42160508e+04],\n",
       "         [3.00000000e+00],\n",
       "         [3.75825315e+01],\n",
       "         ...,\n",
       "         [2.45833776e+04],\n",
       "         [2.46350668e+04],\n",
       "         [2.46584488e+04]],\n",
       "\n",
       "        [[2.42714102e+04],\n",
       "         [4.00000000e+00],\n",
       "         [3.94440797e+01],\n",
       "         ...,\n",
       "         [2.45443817e+04],\n",
       "         [2.46004328e+04],\n",
       "         [2.46286766e+04]]],\n",
       "\n",
       "\n",
       "       [[[2.47002109e+04],\n",
       "         [1.00000000e+00],\n",
       "         [4.49487395e+01],\n",
       "         ...,\n",
       "         [2.49834045e+04],\n",
       "         [2.49396819e+04],\n",
       "         [2.48967582e+04]],\n",
       "\n",
       "        [[2.46578008e+04],\n",
       "         [2.00000000e+00],\n",
       "         [4.39081755e+01],\n",
       "         ...,\n",
       "         [2.49427041e+04],\n",
       "         [2.49128361e+04],\n",
       "         [2.48783768e+04]],\n",
       "\n",
       "        [[2.44616992e+04],\n",
       "         [3.00000000e+00],\n",
       "         [3.93697069e+01],\n",
       "         ...,\n",
       "         [2.48825785e+04],\n",
       "         [2.48698707e+04],\n",
       "         [2.48463247e+04]],\n",
       "\n",
       "        ...,\n",
       "\n",
       "        [[2.42160508e+04],\n",
       "         [3.00000000e+00],\n",
       "         [3.75825315e+01],\n",
       "         ...,\n",
       "         [2.45833776e+04],\n",
       "         [2.46350668e+04],\n",
       "         [2.46584488e+04]],\n",
       "\n",
       "        [[2.42714102e+04],\n",
       "         [4.00000000e+00],\n",
       "         [3.94440797e+01],\n",
       "         ...,\n",
       "         [2.45443817e+04],\n",
       "         [2.46004328e+04],\n",
       "         [2.46286766e+04]],\n",
       "\n",
       "        [[2.43071797e+04],\n",
       "         [0.00000000e+00],\n",
       "         [4.06752296e+01],\n",
       "         ...,\n",
       "         [2.45147314e+04],\n",
       "         [2.45725039e+04],\n",
       "         [2.46039461e+04]]],\n",
       "\n",
       "\n",
       "       [[[2.46578008e+04],\n",
       "         [2.00000000e+00],\n",
       "         [4.39081755e+01],\n",
       "         ...,\n",
       "         [2.49427041e+04],\n",
       "         [2.49128361e+04],\n",
       "         [2.48783768e+04]],\n",
       "\n",
       "        [[2.44616992e+04],\n",
       "         [3.00000000e+00],\n",
       "         [3.93697069e+01],\n",
       "         ...,\n",
       "         [2.48825785e+04],\n",
       "         [2.48698707e+04],\n",
       "         [2.48463247e+04]],\n",
       "\n",
       "        [[2.45808906e+04],\n",
       "         [4.00000000e+00],\n",
       "         [4.32118226e+01],\n",
       "         ...,\n",
       "         [2.48448675e+04],\n",
       "         [2.48423488e+04],\n",
       "         [2.48259067e+04]],\n",
       "\n",
       "        ...,\n",
       "\n",
       "        [[2.42714102e+04],\n",
       "         [4.00000000e+00],\n",
       "         [3.94440797e+01],\n",
       "         ...,\n",
       "         [2.45443817e+04],\n",
       "         [2.46004328e+04],\n",
       "         [2.46286766e+04]],\n",
       "\n",
       "        [[2.43071797e+04],\n",
       "         [0.00000000e+00],\n",
       "         [4.06752296e+01],\n",
       "         ...,\n",
       "         [2.45147314e+04],\n",
       "         [2.45725039e+04],\n",
       "         [2.46039461e+04]],\n",
       "\n",
       "        [[2.41748203e+04],\n",
       "         [1.00000000e+00],\n",
       "         [3.76267897e+01],\n",
       "         ...,\n",
       "         [2.44722425e+04],\n",
       "         [2.45346293e+04],\n",
       "         [2.45709364e+04]]]])"
      ]
     },
     "execution_count": 35,
     "metadata": {},
     "output_type": "execute_result"
    }
   ],
   "source": [
    "inputF[:-test]"
   ]
  },
  {
   "cell_type": "code",
   "execution_count": 36,
   "metadata": {},
   "outputs": [],
   "source": [
    "y=df[['label']][10:]"
   ]
  },
  {
   "cell_type": "code",
   "execution_count": 37,
   "metadata": {},
   "outputs": [
    {
     "data": {
      "text/plain": [
       "(7410, 1)"
      ]
     },
     "execution_count": 37,
     "metadata": {},
     "output_type": "execute_result"
    }
   ],
   "source": [
    "len(y)\n",
    "y.shape"
   ]
  },
  {
   "cell_type": "code",
   "execution_count": 38,
   "metadata": {},
   "outputs": [
    {
     "data": {
      "text/plain": [
       "array([1., 0.], dtype=float32)"
      ]
     },
     "execution_count": 38,
     "metadata": {},
     "output_type": "execute_result"
    }
   ],
   "source": [
    "from keras.utils import to_categorical#one-hot encode target column\n",
    "output = to_categorical(y)\n",
    "output[0]"
   ]
  },
  {
   "cell_type": "code",
   "execution_count": 39,
   "metadata": {},
   "outputs": [
    {
     "data": {
      "text/plain": [
       "(7410, 2)"
      ]
     },
     "execution_count": 39,
     "metadata": {},
     "output_type": "execute_result"
    }
   ],
   "source": [
    "output.shape"
   ]
  },
  {
   "cell_type": "code",
   "execution_count": 40,
   "metadata": {},
   "outputs": [
    {
     "name": "stdout",
     "output_type": "stream",
     "text": [
      "Model: \"sequential_1\"\n",
      "_________________________________________________________________\n",
      "Layer (type)                 Output Shape              Param #   \n",
      "=================================================================\n",
      "conv2d_1 (Conv2D)            (None, 10, 29, 32)        160       \n",
      "_________________________________________________________________\n",
      "conv2d_2 (Conv2D)            (None, 10, 29, 32)        4128      \n",
      "_________________________________________________________________\n",
      "max_pooling2d_1 (MaxPooling2 (None, 5, 29, 32)         0         \n",
      "_________________________________________________________________\n",
      "conv2d_3 (Conv2D)            (None, 5, 29, 32)         4128      \n",
      "_________________________________________________________________\n",
      "dropout_1 (Dropout)          (None, 5, 29, 32)         0         \n",
      "_________________________________________________________________\n",
      "max_pooling2d_2 (MaxPooling2 (None, 2, 29, 32)         0         \n",
      "_________________________________________________________________\n",
      "flatten_1 (Flatten)          (None, 1856)              0         \n",
      "_________________________________________________________________\n",
      "dense_1 (Dense)              (None, 300)               557100    \n",
      "_________________________________________________________________\n",
      "dense_2 (Dense)              (None, 200)               60200     \n",
      "_________________________________________________________________\n",
      "dense_3 (Dense)              (None, 2)                 402       \n",
      "=================================================================\n",
      "Total params: 626,118\n",
      "Trainable params: 626,118\n",
      "Non-trainable params: 0\n",
      "_________________________________________________________________\n"
     ]
    }
   ],
   "source": [
    "model = Sequential()\n",
    "model.add(Conv2D(32, kernel_size=(2, 2),activation='relu',padding='same',input_shape=(10,29,1)))\n",
    "model.add(Conv2D(32, (2, 2), activation='relu',padding='same'))\n",
    "model.add(MaxPooling2D(pool_size=(2, 1)))\n",
    "model.add(Conv2D(32, (2, 2), activation='relu',padding='same'))\n",
    "model.add(Dropout(0.1))\n",
    "model.add(MaxPooling2D(pool_size=(2, 1)))\n",
    "model.add(Flatten())\n",
    "model.add(Dense(300, activation='relu'))\n",
    "model.add(Dense(200, activation='relu'))\n",
    "model.add(Dense(2, activation='softmax'))\n",
    "model.compile(loss=keras.losses.categorical_crossentropy,\n",
    "              optimizer=keras.optimizers.Adam(),\n",
    "metrics=['accuracy'])\n",
    "model.summary()"
   ]
  },
  {
   "cell_type": "code",
   "execution_count": null,
   "metadata": {},
   "outputs": [],
   "source": [
    "from keras.callbacks import ModelCheckpoint\n",
    "# checkpoint\n",
    "filepath=\"models/model{epoch:02d}\"\n",
    "checkpoint = ModelCheckpoint(filepath, monitor='val_accuracy', verbose=1, save_best_only=False, mode='max')\n",
    "callbacks_list = [checkpoint]"
   ]
  },
  {
   "cell_type": "code",
   "execution_count": null,
   "metadata": {},
   "outputs": [],
   "source": [
    "#train the model\n",
    "history=model.fit(inputF[:-test], output[:-test],  epochs=100,validation_data=(inputF[-test:], output[-test:]),\n",
    "                  shuffle=False,batch_size=32, callbacks=callbacks_list, verbose=1)"
   ]
  },
  {
   "cell_type": "code",
   "execution_count": null,
   "metadata": {},
   "outputs": [],
   "source": [
    "history.history.keys()"
   ]
  },
  {
   "cell_type": "code",
   "execution_count": null,
   "metadata": {},
   "outputs": [],
   "source": [
    "plt.plot(history.history['accuracy'])\n",
    "plt.plot(history.history['val_accuracy'])\n",
    "plt.title('Model accuracy')\n",
    "plt.ylabel('Accuracy')\n",
    "plt.xlabel('Epoch')\n",
    "plt.legend(['Train', 'Test'], loc='upper left')\n",
    "plt.show()"
   ]
  },
  {
   "cell_type": "code",
   "execution_count": null,
   "metadata": {},
   "outputs": [],
   "source": [
    "# Plot training & validation loss values\n",
    "plt.plot(history.history['loss'])\n",
    "plt.plot(history.history['val_loss'])\n",
    "plt.title('Model loss')\n",
    "plt.ylabel('Loss')\n",
    "plt.xlabel('Epoch')\n",
    "plt.legend(['Train', 'Test'], loc='upper left')\n",
    "plt.show()\n"
   ]
  },
  {
   "cell_type": "code",
   "execution_count": 41,
   "metadata": {},
   "outputs": [],
   "source": [
    "from keras.models import load_model\n",
    "model = load_model(\"models/model61\")"
   ]
  },
  {
   "cell_type": "code",
   "execution_count": 42,
   "metadata": {},
   "outputs": [],
   "source": [
    "Y_pred=model.predict(inputF[-test:])\n",
    "y_pred = np.argmax(Y_pred, axis=1)"
   ]
  },
  {
   "cell_type": "code",
   "execution_count": 43,
   "metadata": {},
   "outputs": [
    {
     "data": {
      "text/plain": [
       "371"
      ]
     },
     "execution_count": 43,
     "metadata": {},
     "output_type": "execute_result"
    }
   ],
   "source": [
    "len(y_pred)"
   ]
  },
  {
   "cell_type": "code",
   "execution_count": 44,
   "metadata": {},
   "outputs": [],
   "source": [
    "actual=np.argmax(output[-test:], axis=1) "
   ]
  },
  {
   "cell_type": "code",
   "execution_count": 45,
   "metadata": {},
   "outputs": [
    {
     "data": {
      "text/plain": [
       "371"
      ]
     },
     "execution_count": 45,
     "metadata": {},
     "output_type": "execute_result"
    }
   ],
   "source": [
    "len(actual)"
   ]
  },
  {
   "cell_type": "code",
   "execution_count": 46,
   "metadata": {},
   "outputs": [],
   "source": [
    "from sklearn.metrics import classification_report, confusion_matrix"
   ]
  },
  {
   "cell_type": "code",
   "execution_count": 47,
   "metadata": {},
   "outputs": [
    {
     "name": "stdout",
     "output_type": "stream",
     "text": [
      "Classification Report\n",
      "              precision    recall  f1-score   support\n",
      "\n",
      "           0       0.46      0.38      0.42       164\n",
      "           1       0.57      0.64      0.60       207\n",
      "\n",
      "   micro avg       0.53      0.53      0.53       371\n",
      "   macro avg       0.51      0.51      0.51       371\n",
      "weighted avg       0.52      0.53      0.52       371\n",
      "\n"
     ]
    }
   ],
   "source": [
    "print('Classification Report')\n",
    "target_names = ['Actual', 'Prediction']\n",
    "print(classification_report(actual, y_pred))"
   ]
  },
  {
   "cell_type": "code",
   "execution_count": 48,
   "metadata": {},
   "outputs": [],
   "source": [
    "df['y_pred']=5"
   ]
  },
  {
   "cell_type": "code",
   "execution_count": 49,
   "metadata": {},
   "outputs": [
    {
     "name": "stderr",
     "output_type": "stream",
     "text": [
      "/home/jagdish/anaconda3/lib/python3.7/site-packages/ipykernel_launcher.py:1: SettingWithCopyWarning: \n",
      "A value is trying to be set on a copy of a slice from a DataFrame\n",
      "\n",
      "See the caveats in the documentation: http://pandas.pydata.org/pandas-docs/stable/indexing.html#indexing-view-versus-copy\n",
      "  \"\"\"Entry point for launching an IPython kernel.\n"
     ]
    }
   ],
   "source": [
    "df['y_pred'][-test:]=y_pred"
   ]
  },
  {
   "cell_type": "code",
   "execution_count": 50,
   "metadata": {},
   "outputs": [],
   "source": [
    "df.to_csv(\"afterDJIA.csv\")"
   ]
  },
  {
   "cell_type": "code",
   "execution_count": null,
   "metadata": {},
   "outputs": [],
   "source": []
  }
 ],
 "metadata": {
  "kernelspec": {
   "display_name": "Python 3",
   "language": "python",
   "name": "python3"
  },
  "language_info": {
   "codemirror_mode": {
    "name": "ipython",
    "version": 3
   },
   "file_extension": ".py",
   "mimetype": "text/x-python",
   "name": "python",
   "nbconvert_exporter": "python",
   "pygments_lexer": "ipython3",
   "version": "3.7.3"
  }
 },
 "nbformat": 4,
 "nbformat_minor": 2
}
