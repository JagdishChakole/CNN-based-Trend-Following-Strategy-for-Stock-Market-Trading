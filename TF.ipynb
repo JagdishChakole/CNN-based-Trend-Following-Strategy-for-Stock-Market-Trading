{
 "cells": [
  {
   "cell_type": "code",
   "execution_count": 1,
   "metadata": {},
   "outputs": [],
   "source": [
    "import pandas as pd\n",
    "import numpy as np\n",
    "import datetime"
   ]
  },
  {
   "cell_type": "code",
   "execution_count": 2,
   "metadata": {},
   "outputs": [],
   "source": [
    "df=pd.read_csv(\"afterDJIA.csv\")"
   ]
  },
  {
   "cell_type": "code",
   "execution_count": 3,
   "metadata": {},
   "outputs": [
    {
     "data": {
      "text/plain": [
       "7420"
      ]
     },
     "execution_count": 3,
     "metadata": {},
     "output_type": "execute_result"
    }
   ],
   "source": [
    "len(df)"
   ]
  },
  {
   "cell_type": "code",
   "execution_count": 4,
   "metadata": {},
   "outputs": [],
   "source": [
    "df['cash']=0\n",
    "df['action']=\"\"\n",
    "df['action1']=\"\"\n",
    "class Portfolio:\n",
    "    def __init__(self):\n",
    "        self.profit=0\n",
    "        self.last_action=None\n",
    "        self.last_price=0\n",
    "        self.last_quantity=0\n",
    "        self.brok_rate=0.0010\n",
    "        self.capital=2000000\n",
    "        self.margin=2000000\n",
    "        \n",
    "    def long(self,t):\n",
    "        df['cash'][t]=self.margin\n",
    "        self.last_quantity=self.margin//df['Close'][t]\n",
    "        self.margin=self.margin%df['Close'][t]\n",
    "        self.last_price=df['Close'][t]\n",
    "        self.last_action='bought'\n",
    "        print('open long @',self.last_price)\n",
    "        df['action'][t]=\"long\"\n",
    "        df['action1'][t]=\"long\"\n",
    "        \n",
    "    def close_long(self,t):\n",
    "        tbrokerage=(df['Close'][t]+self.last_price)*self.brok_rate\n",
    "        tprofit=(df['Close'][t]-self.last_price-tbrokerage)*self.last_quantity\n",
    "        self.profit=self.profit+tprofit\n",
    "        self.margin=self.margin+(self.last_quantity*self.last_price)+(tprofit)\n",
    "        df['cash'][t]=self.margin        \n",
    "        print('close long @',df['Close'][t])\n",
    "        self.last_action=None\n",
    "        df['action'][t]=\"close long\"\n",
    "        df['action1'][t]=\"short\"\n",
    "        \n",
    "    def short(self,t):\n",
    "        df['cash'][t]=self.margin        \n",
    "        self.last_quantity=self.margin//df['Close'][t]\n",
    "        self.margin=self.margin%df['Close'][t]\n",
    "        self.last_price=df['Close'][t]\n",
    "        self.last_action='sold'        \n",
    "        print('open short @',self.last_price)\n",
    "        df['action'][t]=\"short\"\n",
    "        df['action1'][t]=\"short\"\n",
    "        \n",
    "    def close_short(self,t):\n",
    "        tbrokerage=(df['Close'][t]+self.last_price)*self.brok_rate\n",
    "        tprofit=(self.last_price-df['Close'][t]-tbrokerage)*self.last_quantity\n",
    "        self.profit=self.profit+tprofit\n",
    "        self.margin=self.margin+(self.last_quantity*self.last_price)+(tprofit)\n",
    "        df['cash'][t]=self.margin      \n",
    "        print('close short @',df['Close'][t])\n",
    "        self.last_action=None\n",
    "        df['action'][t]=\"close short\"\n",
    "        df['action1'][t]=\"long\"\n",
    "        \n",
    "    def copy_Buy(self,t):\n",
    "        df['cash'][t]=self.margin+(self.last_quantity*df['Close'][t])\n",
    "        \n",
    "    def copy_Sell(self,t):\n",
    "        tp=(self.last_price-df['Close'][t])*self.last_quantity\n",
    "        original=self.margin+(self.last_quantity*self.last_price)\n",
    "        df['cash'][t]=original+tp\n",
    "        \n",
    "    def copy_None(self,t):\n",
    "        df['cash'][t]=self.margin       \n",
    "        \n",
    "        \n",
    "        \n",
    "    def action(self,signal,t):\n",
    "        if signal=='Buy' and self.last_action==None:\n",
    "            self.long(t)\n",
    "        elif signal=='Buy' and self.last_action=='sold':\n",
    "            self.close_short(t)\n",
    "            self.long(t)\n",
    "        elif signal=='Buy' and self.last_action=='bought':\n",
    "            self.copy_Buy(t)            \n",
    "        elif signal=='Sell' and self.last_action==None:\n",
    "            self.short(t)\n",
    "        elif signal=='Sell' and self.last_action=='bought':\n",
    "            self.close_long(t)\n",
    "            self.short(t)\n",
    "        elif signal=='Sell' and self.last_action=='sold':\n",
    "            self.copy_Sell(t)\n",
    "        elif signal=='hold':\n",
    "            if self.last_action==None:\n",
    "                self.copy_None(t)\n",
    "            elif self.last_action=='bought':\n",
    "                self.copy_Buy(t)                \n",
    "            elif self.last_action=='sold':\n",
    "                self.copy_Sell(t)  \n",
    "                \n",
    "        \n",
    "    def result(self,t):        \n",
    "        if self.last_action=='sold':\n",
    "            tbrokerage=(df['Close'][t]+self.last_price)*self.brok_rate\n",
    "            tprofit=(self.last_price-df['Close'][t]-tbrokerage)*self.last_quantity\n",
    "            self.profit=self.profit+tprofit\n",
    "            self.margin=self.margin+(self.last_quantity*self.last_price)+(tprofit) \n",
    "            df['cash'][t]=self.margin\n",
    "            self.last_action=None\n",
    "            df['action'][t]=\"close short\"\n",
    "            df['action1'][t]=\"long\"\n",
    "        elif self.last_action=='bought':\n",
    "            tbrokerage=(df['Close'][t]+self.last_price)*self.brok_rate\n",
    "            tprofit=(df['Close'][t]-self.last_price-tbrokerage)*self.last_quantity\n",
    "            self.profit=self.profit+tprofit\n",
    "            self.margin=self.margin+(self.last_quantity*self.last_price)+(tprofit) \n",
    "            df['cash'][t]=self.margin\n",
    "            self.last_action=None\n",
    "            df['action'][t]=\"close long\"\n",
    "            df['action1'][t]=\"short\"\n",
    "        print(\"\\n***********************\")\n",
    "        print(\"Profit is \",self.profit)\n",
    "        print(\"Initial Capital is \",self.capital)    \n",
    "        print(\"Current Capital is \",self.margin)\n",
    "        roi=((self.margin-self.capital)/self.capital)*100\n",
    "        print(\"%ROI is \",roi)\n",
    "        \n",
    "        "
   ]
  },
  {
   "cell_type": "code",
   "execution_count": 5,
   "metadata": {},
   "outputs": [
    {
     "name": "stderr",
     "output_type": "stream",
     "text": [
      "/home/jagdish/anaconda3/lib/python3.7/site-packages/ipykernel_launcher.py:65: SettingWithCopyWarning: \n",
      "A value is trying to be set on a copy of a slice from a DataFrame\n",
      "\n",
      "See the caveats in the documentation: http://pandas.pydata.org/pandas-docs/stable/indexing.html#indexing-view-versus-copy\n",
      "/home/jagdish/anaconda3/lib/python3.7/site-packages/ipykernel_launcher.py:36: SettingWithCopyWarning: \n",
      "A value is trying to be set on a copy of a slice from a DataFrame\n",
      "\n",
      "See the caveats in the documentation: http://pandas.pydata.org/pandas-docs/stable/indexing.html#indexing-view-versus-copy\n",
      "/home/jagdish/anaconda3/lib/python3.7/site-packages/ipykernel_launcher.py:42: SettingWithCopyWarning: \n",
      "A value is trying to be set on a copy of a slice from a DataFrame\n",
      "\n",
      "See the caveats in the documentation: http://pandas.pydata.org/pandas-docs/stable/indexing.html#indexing-view-versus-copy\n",
      "/home/jagdish/anaconda3/lib/python3.7/site-packages/ipykernel_launcher.py:43: SettingWithCopyWarning: \n",
      "A value is trying to be set on a copy of a slice from a DataFrame\n",
      "\n",
      "See the caveats in the documentation: http://pandas.pydata.org/pandas-docs/stable/indexing.html#indexing-view-versus-copy\n",
      "/home/jagdish/anaconda3/lib/python3.7/site-packages/ipykernel_launcher.py:62: SettingWithCopyWarning: \n",
      "A value is trying to be set on a copy of a slice from a DataFrame\n",
      "\n",
      "See the caveats in the documentation: http://pandas.pydata.org/pandas-docs/stable/indexing.html#indexing-view-versus-copy\n"
     ]
    },
    {
     "name": "stdout",
     "output_type": "stream",
     "text": [
      "open short @ 26405.759765625\n",
      "sell\n",
      "sell\n",
      "sell\n",
      "sell\n",
      "close short @ 25052.830078125\n"
     ]
    },
    {
     "name": "stderr",
     "output_type": "stream",
     "text": [
      "/home/jagdish/anaconda3/lib/python3.7/site-packages/ipykernel_launcher.py:50: SettingWithCopyWarning: \n",
      "A value is trying to be set on a copy of a slice from a DataFrame\n",
      "\n",
      "See the caveats in the documentation: http://pandas.pydata.org/pandas-docs/stable/indexing.html#indexing-view-versus-copy\n",
      "/home/jagdish/anaconda3/lib/python3.7/site-packages/ipykernel_launcher.py:53: SettingWithCopyWarning: \n",
      "A value is trying to be set on a copy of a slice from a DataFrame\n",
      "\n",
      "See the caveats in the documentation: http://pandas.pydata.org/pandas-docs/stable/indexing.html#indexing-view-versus-copy\n",
      "/home/jagdish/anaconda3/lib/python3.7/site-packages/ipykernel_launcher.py:54: SettingWithCopyWarning: \n",
      "A value is trying to be set on a copy of a slice from a DataFrame\n",
      "\n",
      "See the caveats in the documentation: http://pandas.pydata.org/pandas-docs/stable/indexing.html#indexing-view-versus-copy\n",
      "/home/jagdish/anaconda3/lib/python3.7/site-packages/ipykernel_launcher.py:15: SettingWithCopyWarning: \n",
      "A value is trying to be set on a copy of a slice from a DataFrame\n",
      "\n",
      "See the caveats in the documentation: http://pandas.pydata.org/pandas-docs/stable/indexing.html#indexing-view-versus-copy\n",
      "  from ipykernel import kernelapp as app\n",
      "/home/jagdish/anaconda3/lib/python3.7/site-packages/ipykernel_launcher.py:21: SettingWithCopyWarning: \n",
      "A value is trying to be set on a copy of a slice from a DataFrame\n",
      "\n",
      "See the caveats in the documentation: http://pandas.pydata.org/pandas-docs/stable/indexing.html#indexing-view-versus-copy\n",
      "/home/jagdish/anaconda3/lib/python3.7/site-packages/ipykernel_launcher.py:22: SettingWithCopyWarning: \n",
      "A value is trying to be set on a copy of a slice from a DataFrame\n",
      "\n",
      "See the caveats in the documentation: http://pandas.pydata.org/pandas-docs/stable/indexing.html#indexing-view-versus-copy\n",
      "/home/jagdish/anaconda3/lib/python3.7/site-packages/ipykernel_launcher.py:57: SettingWithCopyWarning: \n",
      "A value is trying to be set on a copy of a slice from a DataFrame\n",
      "\n",
      "See the caveats in the documentation: http://pandas.pydata.org/pandas-docs/stable/indexing.html#indexing-view-versus-copy\n"
     ]
    },
    {
     "name": "stdout",
     "output_type": "stream",
     "text": [
      "open long @ 25052.830078125\n",
      "buy\n",
      "buy\n",
      "buy\n",
      "buy\n"
     ]
    },
    {
     "name": "stderr",
     "output_type": "stream",
     "text": [
      "/home/jagdish/anaconda3/lib/python3.7/site-packages/ipykernel_launcher.py:29: SettingWithCopyWarning: \n",
      "A value is trying to be set on a copy of a slice from a DataFrame\n",
      "\n",
      "See the caveats in the documentation: http://pandas.pydata.org/pandas-docs/stable/indexing.html#indexing-view-versus-copy\n",
      "/home/jagdish/anaconda3/lib/python3.7/site-packages/ipykernel_launcher.py:32: SettingWithCopyWarning: \n",
      "A value is trying to be set on a copy of a slice from a DataFrame\n",
      "\n",
      "See the caveats in the documentation: http://pandas.pydata.org/pandas-docs/stable/indexing.html#indexing-view-versus-copy\n",
      "/home/jagdish/anaconda3/lib/python3.7/site-packages/ipykernel_launcher.py:33: SettingWithCopyWarning: \n",
      "A value is trying to be set on a copy of a slice from a DataFrame\n",
      "\n",
      "See the caveats in the documentation: http://pandas.pydata.org/pandas-docs/stable/indexing.html#indexing-view-versus-copy\n"
     ]
    },
    {
     "name": "stdout",
     "output_type": "stream",
     "text": [
      "close long @ 25954.439453125\n",
      "open short @ 25954.439453125\n",
      "sell\n",
      "sell\n",
      "close short @ 25324.990234375\n",
      "open long @ 25324.990234375\n",
      "buy\n",
      "buy\n",
      "buy\n",
      "close long @ 26966.0\n",
      "open short @ 26966.0\n",
      "sell\n",
      "sell\n",
      "sell\n",
      "sell\n",
      "close short @ 25717.740234375\n",
      "open long @ 25717.740234375\n",
      "buy\n",
      "close long @ 27783.58984375\n",
      "open short @ 27783.58984375\n",
      "sell\n",
      "sell\n",
      "sell\n",
      "sell\n",
      "sell\n",
      "sell\n",
      "sell\n",
      "sell\n",
      "sell\n",
      "sell\n",
      "\n",
      "***********************\n",
      "Profit is  562385.7504804689\n",
      "Initial Capital is  2000000\n",
      "Current Capital is  2562385.750480469\n",
      "%ROI is  28.119287524023445\n",
      "Buy and Hold= 16.378726944657274\n"
     ]
    },
    {
     "name": "stderr",
     "output_type": "stream",
     "text": [
      "/home/jagdish/anaconda3/lib/python3.7/site-packages/ipykernel_launcher.py:99: SettingWithCopyWarning: \n",
      "A value is trying to be set on a copy of a slice from a DataFrame\n",
      "\n",
      "See the caveats in the documentation: http://pandas.pydata.org/pandas-docs/stable/indexing.html#indexing-view-versus-copy\n",
      "/home/jagdish/anaconda3/lib/python3.7/site-packages/ipykernel_launcher.py:101: SettingWithCopyWarning: \n",
      "A value is trying to be set on a copy of a slice from a DataFrame\n",
      "\n",
      "See the caveats in the documentation: http://pandas.pydata.org/pandas-docs/stable/indexing.html#indexing-view-versus-copy\n",
      "/home/jagdish/anaconda3/lib/python3.7/site-packages/ipykernel_launcher.py:102: SettingWithCopyWarning: \n",
      "A value is trying to be set on a copy of a slice from a DataFrame\n",
      "\n",
      "See the caveats in the documentation: http://pandas.pydata.org/pandas-docs/stable/indexing.html#indexing-view-versus-copy\n"
     ]
    }
   ],
   "source": [
    "    agent=Portfolio()\n",
    "    for i in range(7049,7419):  \n",
    "        ls=[0,0,0]\n",
    "        ls[0]=df['rsitf'][i]\n",
    "        ls[1]=df['rtf'][i]\n",
    "        ls[2]=df['ccitf'][i]\n",
    "        z0=ls.count(0)\n",
    "        z1=ls.count(1)\n",
    "        z2=ls.count(2)\n",
    "        y=[z0,z1,z2]\n",
    "        z3=y.index(max(y))\n",
    "        #t=df['y_pred'][i]\n",
    "        #print(i,t)\n",
    "        #print(\"p={}ta={}\".format(t,z3))\n",
    "        if (z3==1):\n",
    "            agent.action('Buy',i)    \n",
    "            print(\"buy\")\n",
    "        elif (z3==2):\n",
    "            agent.action('Sell',i)  \n",
    "            print(\"sell\")\n",
    "        else:\n",
    "            agent.action('hold',i)        \n",
    "    agent.result(i)\n",
    "    bnh=((df['Close'][7419]-df['Close'][7049])/df['Close'][7049])*100\n",
    "    print(\"Buy and Hold=\",bnh)"
   ]
  },
  {
   "cell_type": "code",
   "execution_count": 6,
   "metadata": {},
   "outputs": [],
   "source": [
    "#0-hold 1-buy 2-sell"
   ]
  },
  {
   "cell_type": "code",
   "execution_count": 7,
   "metadata": {},
   "outputs": [
    {
     "data": {
      "text/plain": [
       "7420"
      ]
     },
     "execution_count": 7,
     "metadata": {},
     "output_type": "execute_result"
    }
   ],
   "source": [
    "len(df)"
   ]
  },
  {
   "cell_type": "code",
   "execution_count": 8,
   "metadata": {},
   "outputs": [],
   "source": [
    "#df.iloc[6028]"
   ]
  },
  {
   "cell_type": "code",
   "execution_count": 9,
   "metadata": {},
   "outputs": [],
   "source": [
    "df.to_csv('tf.csv')"
   ]
  },
  {
   "cell_type": "code",
   "execution_count": 16,
   "metadata": {},
   "outputs": [
    {
     "data": {
      "text/plain": [
       "<matplotlib.axes._subplots.AxesSubplot at 0x7f459bdc2a90>"
      ]
     },
     "execution_count": 16,
     "metadata": {},
     "output_type": "execute_result"
    },
    {
     "data": {
      "image/png": "[encoded data removed]",
      "text/plain": [
       "<Figure size 432x288 with 1 Axes>"
      ]
     },
     "metadata": {
      "needs_background": "light"
     },
     "output_type": "display_data"
    }
   ],
   "source": [
    "(((df['cash'].iloc[7049:-1]-2000000)/2000000)*100).plot()"
   ]
  },
  {
   "cell_type": "code",
   "execution_count": 17,
   "metadata": {},
   "outputs": [
    {
     "data": {
      "text/plain": [
       "<matplotlib.axes._subplots.AxesSubplot at 0x7f459bd1aeb8>"
      ]
     },
     "execution_count": 17,
     "metadata": {},
     "output_type": "execute_result"
    },
    {
     "data": {
      "image/png": "[encoded data removed]",
      "text/plain": [
       "<Figure size 432x288 with 1 Axes>"
      ]
     },
     "metadata": {
      "needs_background": "light"
     },
     "output_type": "display_data"
    }
   ],
   "source": [
    "(((df['Close'].iloc[7049:]-24457)/24457)*100).plot()"
   ]
  },
  {
   "cell_type": "code",
   "execution_count": 12,
   "metadata": {},
   "outputs": [
    {
     "data": {
      "text/plain": [
       "24456.48046875"
      ]
     },
     "execution_count": 12,
     "metadata": {},
     "output_type": "execute_result"
    }
   ],
   "source": [
    "df.Close.iloc[7049]"
   ]
  },
  {
   "cell_type": "code",
   "execution_count": null,
   "metadata": {},
   "outputs": [],
   "source": []
  }
 ],
 "metadata": {
  "kernelspec": {
   "display_name": "Python 3",
   "language": "python",
   "name": "python3"
  },
  "language_info": {
   "codemirror_mode": {
    "name": "ipython",
    "version": 3
   },
   "file_extension": ".py",
   "mimetype": "text/x-python",
   "name": "python",
   "nbconvert_exporter": "python",
   "pygments_lexer": "ipython3",
   "version": "3.7.3"
  }
 },
 "nbformat": 4,
 "nbformat_minor": 2
}
